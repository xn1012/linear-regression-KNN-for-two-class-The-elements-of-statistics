{
 "cells": [
  {
   "cell_type": "code",
   "execution_count": 1,
   "metadata": {
    "collapsed": false
   },
   "outputs": [
    {
     "data": {
      "text/plain": [
       "<matplotlib.contour.QuadContourSet at 0x6962dd8>"
      ]
     },
     "execution_count": 1,
     "metadata": {},
     "output_type": "execute_result"
    },
    {
     "data": {
      "image/png": "[encoded data removed]",
      "text/plain": [
       "<matplotlib.figure.Figure at 0x6972668>"
      ]
     },
     "metadata": {},
     "output_type": "display_data"
    }
   ],
   "source": [
    "# -*- coding: utf-8 -*-\n",
    "\"\"\"\n",
    "Created on Tue Feb 23 22:34:26 2016\n",
    "\n",
    "@author: kamal\n",
    "\"\"\"\n",
    "%matplotlib inline\n",
    "import numpy as np\n",
    "import matplotlib.pyplot as plt\n",
    "\n",
    "x=np.load(\"data.npy\")\n",
    "\n",
    "X,Y,y=x[:,0],x[:,1],x[:,2]\n",
    "ynew=np.matrix(y).T\n",
    "Xzip=zip(X,Y)\n",
    "O=np.ones(x.shape[0])\n",
    "Totalzip=np.matrix(zip(O,X,Y))\n",
    "beta=np.linalg.inv(Totalzip.T*Totalzip)*Totalzip.T*ynew\n",
    "\n",
    "xfit=np.linspace(-3,5,100)\n",
    "finalline=(0.5-beta[0]-beta[1]*xfit)/beta[2]\n",
    "#plt.plot(xfit,finalline.T)\n",
    "color=['ro','go']\n",
    "uniq=np.unique(y)\n",
    "for i in range(2):\n",
    "    index=y==uniq[i]\n",
    "    plt.plot(X[index],Y[index],color[i])\n",
    "    \n",
    "h=0.01  \n",
    "xmin,xmax=X.min()-1,X.max()+1\n",
    "ymin,ymax=Y.min()-1,Y.max()+1\n",
    "XX,YY=np.meshgrid(np.arange(xmin,xmax,h),np.arange(ymin,ymax,h))\n",
    "Newone=np.ones(XX.ravel().shape)\n",
    "Z=np.c_[Newone,XX.ravel(),YY.ravel()]\n",
    "look=[]\n",
    "label1=[]\n",
    "m=Z.shape[0]\n",
    "for i in range(m):\n",
    "    newZ=(Z[i]*beta).item(0,0)\n",
    "    if newZ<=0.5:\n",
    "        label=0\n",
    "    elif newZ>0.5:\n",
    "        label=1\n",
    "    label1.append(label)\n",
    "    look.append(newZ)\n",
    "    \n",
    "label11=np.array(label1)\n",
    "Newlabel=label11.reshape(XX.shape)\n",
    "plt.contourf(XX,YY,Newlabel,alpha=0.4)"
   ]
  },
  {
   "cell_type": "code",
   "execution_count": null,
   "metadata": {
    "collapsed": true
   },
   "outputs": [],
   "source": []
  }
 ],
 "metadata": {
  "kernelspec": {
   "display_name": "Python 2",
   "language": "python",
   "name": "python2"
  },
  "language_info": {
   "codemirror_mode": {
    "name": "ipython",
    "version": 2
   },
   "file_extension": ".py",
   "mimetype": "text/x-python",
   "name": "python",
   "nbconvert_exporter": "python",
   "pygments_lexer": "ipython2",
   "version": "2.7.11"
  }
 },
 "nbformat": 4,
 "nbformat_minor": 0
}
